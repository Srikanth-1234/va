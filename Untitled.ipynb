{
 "cells": [
  {
   "cell_type": "code",
   "execution_count": 1,
   "id": "359c6c9a",
   "metadata": {},
   "outputs": [],
   "source": [
    "import pyttsx3 as p\n",
    "import randfacts\n",
    "import requests\n",
    "import warnings\n",
    "warnings.filterwarnings('ignore')\n",
    "from selenium import *\n",
    "from yt import *\n",
    "from jokes import *\n",
    "engine = p.init()\n",
    "engine.say(\"Hello. My name is jia\")\n",
    "engine.runAndWait()"
   ]
  },
  {
   "cell_type": "code",
   "execution_count": 2,
   "id": "91c5dae8",
   "metadata": {},
   "outputs": [],
   "source": [
    "#Recognize Audio rate"
   ]
  },
  {
   "cell_type": "code",
   "execution_count": 144,
   "id": "da9b188c",
   "metadata": {},
   "outputs": [
    {
     "name": "stdout",
     "output_type": "stream",
     "text": [
      "130\n"
     ]
    }
   ],
   "source": [
    "rate=engine.getProperty('rate')\n",
    "print(rate)"
   ]
  },
  {
   "cell_type": "code",
   "execution_count": 4,
   "id": "f3ef4f2e",
   "metadata": {},
   "outputs": [],
   "source": [
    "#Set Audio rate"
   ]
  },
  {
   "cell_type": "code",
   "execution_count": 143,
   "id": "1589acd0",
   "metadata": {},
   "outputs": [],
   "source": [
    "engine.setProperty('rate',130)\n",
    "engine.say(\"Hello!!! My name is jia\")\n",
    "engine.runAndWait()"
   ]
  },
  {
   "cell_type": "code",
   "execution_count": 6,
   "id": "00a7412e",
   "metadata": {},
   "outputs": [],
   "source": [
    "#Recognise voice model"
   ]
  },
  {
   "cell_type": "code",
   "execution_count": 7,
   "id": "6cd6c4cd",
   "metadata": {},
   "outputs": [
    {
     "name": "stdout",
     "output_type": "stream",
     "text": [
      "[<pyttsx3.voice.Voice object at 0x00000268D3CBB100>, <pyttsx3.voice.Voice object at 0x00000268D3CBB130>]\n"
     ]
    }
   ],
   "source": [
    "voices=engine.getProperty('voices')\n",
    "print(voices)"
   ]
  },
  {
   "cell_type": "code",
   "execution_count": 8,
   "id": "c82010a1",
   "metadata": {},
   "outputs": [],
   "source": [
    "#Choose voice model"
   ]
  },
  {
   "cell_type": "code",
   "execution_count": 9,
   "id": "72fefbe3",
   "metadata": {},
   "outputs": [
    {
     "name": "stdout",
     "output_type": "stream",
     "text": [
      "[<pyttsx3.voice.Voice object at 0x00000268D3CBB190>, <pyttsx3.voice.Voice object at 0x00000268D26496D0>]\n"
     ]
    }
   ],
   "source": [
    "voices=engine.getProperty('voices')\n",
    "engine.setProperty('voice', voices[1].id)\n",
    "print(voices)\n",
    "engine.say(\"Hello.  My name is jia\")\n",
    "engine.runAndWait()"
   ]
  },
  {
   "cell_type": "code",
   "execution_count": 11,
   "id": "6dbedcf6",
   "metadata": {},
   "outputs": [
    {
     "name": "stdout",
     "output_type": "stream",
     "text": [
      "what about you\n"
     ]
    }
   ],
   "source": [
    "import speech_recognition as sr\n",
    "def speak(text):\n",
    "    engine.say(text)\n",
    "    engine.runAndWait()\n",
    "r=sr.Recognizer()\n",
    "speak(\"hello sir!!! I'm your voice assistant. How are you?\")\n",
    "with sr.Microphone() as source:\n",
    "    r.energy_threshold=10000\n",
    "    r.adjust_for_ambient_noise(source,1.2)\n",
    "    audio = r.listen(source)\n",
    "    text=r.recognize_google(audio)\n",
    "    print(text)"
   ]
  },
  {
   "cell_type": "code",
   "execution_count": 12,
   "id": "65838380",
   "metadata": {},
   "outputs": [],
   "source": [
    "if \"what\" or \"how\" and \"about\" and \"you\" in text:\n",
    "    speak(\"I am having a good day.\")\n",
    "speak(\"what can I do for you?\")"
   ]
  },
  {
   "cell_type": "code",
   "execution_count": 37,
   "id": "bc42087d",
   "metadata": {},
   "outputs": [],
   "source": [
    "#Initiate Wikipedia"
   ]
  },
  {
   "cell_type": "code",
   "execution_count": 35,
   "id": "db7c354b",
   "metadata": {},
   "outputs": [],
   "source": [
    "from selenium import webdriver\n",
    "class infow():\n",
    "    def __init__(self):\n",
    "        self.driver=webdriver.Chrome(executable_path=r'C:\\Users\\sunka\\Fy pt\\Chrome\\chromedriver.exe')\n",
    "    \n",
    "    def get_info(self,query):\n",
    "        self.query=query\n",
    "        self.driver.get(url=\"https://www.wikipedia.org\")\n",
    "        search= self.driver.find_element('xpath','//*[@id=\"searchInput\"]')\n",
    "        search.click()\n",
    "        search.send_keys(query)\n",
    "        enter= self.driver.find_element('xpath','//*[@id=\"search-form\"]/fieldset/button')\n",
    "        enter.click()\n",
    "        \n",
    "#assist=infow()\n",
    "#assist.get_info(\"neutron stars\")"
   ]
  },
  {
   "cell_type": "code",
   "execution_count": 38,
   "id": "9e8ca46f",
   "metadata": {},
   "outputs": [],
   "source": [
    "#Initiate Youtube"
   ]
  },
  {
   "cell_type": "code",
   "execution_count": 66,
   "id": "9450f922",
   "metadata": {},
   "outputs": [],
   "source": [
    "class music():\n",
    "    def __init__(self):\n",
    "        self.driver=webdriver.Chrome(executable_path=r'C:\\Users\\sunka\\Fy pt\\Chrome\\chromedriver.exe')\n",
    "    \n",
    "    def play(self,query):\n",
    "        self.query=query\n",
    "        self.driver.get(url=\"https://www.youtube.com/results?search_query=\"+query)\n",
    "        video=self.driver.find_element('xpath','//*[@id=\"contents\"]/ytd-video-renderer[1]')\n",
    "        video.click()\n",
    "        \n",
    "#assist=music()\n",
    "#assist.play('believer')"
   ]
  },
  {
   "cell_type": "code",
   "execution_count": 131,
   "id": "c705a622",
   "metadata": {},
   "outputs": [
    {
     "name": "stdout",
     "output_type": "stream",
     "text": [
      "There are 7 different types of twins.\n"
     ]
    }
   ],
   "source": [
    "with sr.Microphone() as source:\n",
    "    r.energy_threshold=10000\n",
    "    r.adjust_for_ambient_noise(source,1.2)\n",
    "    audio = r.listen(source)\n",
    "    text2=r.recognize_google(audio)\n",
    "if \"information\" in text2:\n",
    "    speak(\"What's the information you need?\")\n",
    "    with sr.Microphone() as source:\n",
    "        r.energy_threshold=10000\n",
    "        r.adjust_for_ambient_noise(source,1.2)\n",
    "        audio = r.listen(source)\n",
    "        inform=r.recognize_google(audio)\n",
    "    speak(\"searching {} in wikipedia\".format(inform))    \n",
    "    assist=infow()\n",
    "    assist.get_info(inform)\n",
    "    \n",
    "elif \"play\" and \"video\" in text2:\n",
    "    speak(\"You want me to play which video\")\n",
    "    with sr.Microphone() as source:\n",
    "        r.energy_threshold=10000\n",
    "        r.adjust_for_ambient_noise(source,1.2)\n",
    "        print(\"Listening\")\n",
    "        audio = r.listen(source)\n",
    "        vid=r.recognize_google(audio)\n",
    "    print(\"Playing {} on youtube\".format(vid))\n",
    "    speak(\"Playing {} on youtube\".format(vid))\n",
    "    assist=music()\n",
    "    assist.play(vid)\n",
    "\n",
    "elif \"fact\" or \"facts\" in text2:\n",
    "    speak(\"Sure sir\")\n",
    "    x=randfacts.getFact()\n",
    "    print(x)\n",
    "    speak(\"Did you know that, \"+x)"
   ]
  },
  {
   "cell_type": "code",
   "execution_count": null,
   "id": "583bb172",
   "metadata": {},
   "outputs": [],
   "source": [
    "#jokes"
   ]
  },
  {
   "cell_type": "code",
   "execution_count": 153,
   "id": "1d33cc96",
   "metadata": {},
   "outputs": [
    {
     "name": "stdout",
     "output_type": "stream",
     "text": [
      "An IPv6 packet is walking out of the house.\n",
      "He goes nowhere.\n"
     ]
    }
   ],
   "source": [
    "url=\"https://official-joke-api.appspot.com/random_joke\"\n",
    "json_data=requests.get(url).json()\n",
    "arr=[\"\",\"\"]\n",
    "arr[0]=json_data[\"setup\"]\n",
    "arr[1]=json_data[\"punchline\"]\n",
    "with sr.Microphone() as source:\n",
    "    r.energy_threshold=10000\n",
    "    r.adjust_for_ambient_noise(source,1.2)\n",
    "    audio = r.listen(source)\n",
    "    text2=r.recognize_google(audio)\n",
    "def joke():\n",
    "    return arr\n",
    "if \"joke\" or \"jokes\" in text2:\n",
    "    speak(\"Get ready to laugh!\")\n",
    "    arr=joke()\n",
    "    print(arr[0])\n",
    "    speak(arr[0])\n",
    "    print(arr[1])\n",
    "    speak(arr[1])"
   ]
  },
  {
   "cell_type": "code",
   "execution_count": 146,
   "id": "296ac3d1",
   "metadata": {},
   "outputs": [],
   "source": [
    "#News"
   ]
  },
  {
   "cell_type": "code",
   "execution_count": 149,
   "id": "c0aef5b5",
   "metadata": {},
   "outputs": [],
   "source": [
    "key='dd9af4c3d8fa4bce844862af4c5cfc25'\n",
    "import requests\n",
    "api_address=\"http://newsapi.org/v2/top-headlines?country=us&apikey=\"+key\n",
    "json_data=requests.get(api_address).json()\n",
    "ar=[]\n",
    "\n",
    "def news():\n",
    "    for i in range(1):\n",
    "        ar.append(\"Number \"+ str(i+1)+ json_data[\"articles\"][i][\"title\"]+\".\")\n",
    "    return ar"
   ]
  },
  {
   "cell_type": "code",
   "execution_count": 151,
   "id": "fd363aa2",
   "metadata": {},
   "outputs": [
    {
     "name": "stdout",
     "output_type": "stream",
     "text": [
      "Sure, Now I will read news for you.\n",
      "Number1Saints vs. Cardinals score: Live updates, game stats, highlights, analysis for 'Thursday Night Football' - CBS Sports.\n"
     ]
    }
   ],
   "source": [
    "with sr.Microphone() as source:\n",
    "    r.energy_threshold=10000\n",
    "    r.adjust_for_ambient_noise(source,1.2)\n",
    "    audio = r.listen(source)\n",
    "    text2=r.recognize_google(audio)\n",
    "if \"news\" in text2:\n",
    "    print(\"Sure, Now I will read news for you.\")\n",
    "    speak(\"Sure, Now I will read news for you.\")\n",
    "    arr=news()\n",
    "    for i in range(len(arr)):\n",
    "        speak(arr[i])\n",
    "        print(arr[i])"
   ]
  },
  {
   "cell_type": "code",
   "execution_count": null,
   "id": "0b9ed5f2",
   "metadata": {},
   "outputs": [],
   "source": []
  }
 ],
 "metadata": {
  "kernelspec": {
   "display_name": "Python 3 (ipykernel)",
   "language": "python",
   "name": "python3"
  },
  "language_info": {
   "codemirror_mode": {
    "name": "ipython",
    "version": 3
   },
   "file_extension": ".py",
   "mimetype": "text/x-python",
   "name": "python",
   "nbconvert_exporter": "python",
   "pygments_lexer": "ipython3",
   "version": "3.9.7"
  }
 },
 "nbformat": 4,
 "nbformat_minor": 5
}
